{
 "cells": [
  {
   "cell_type": "code",
   "execution_count": 1,
   "metadata": {
    "ExecuteTime": {
     "end_time": "2020-02-23T21:09:25.882520Z",
     "start_time": "2020-02-23T21:09:25.570744Z"
    }
   },
   "outputs": [],
   "source": [
    "import numpy as np\n",
    "import pandas as pd\n",
    "from scipy.stats import rankdata"
   ]
  },
  {
   "cell_type": "code",
   "execution_count": 2,
   "metadata": {
    "ExecuteTime": {
     "end_time": "2020-02-23T21:09:25.914265Z",
     "start_time": "2020-02-23T21:09:25.883563Z"
    }
   },
   "outputs": [],
   "source": [
    "sub ={}\n",
    "RANGE = range(5, 9)\n",
    "for idx in RANGE:\n",
    "    sub[idx] = pd.read_csv(\"../submissions/blending_mean_k_\"+str(idx)+\".csv\")"
   ]
  },
  {
   "cell_type": "code",
   "execution_count": 10,
   "metadata": {
    "ExecuteTime": {
     "end_time": "2020-02-23T21:16:37.099392Z",
     "start_time": "2020-02-23T21:16:36.978283Z"
    }
   },
   "outputs": [],
   "source": [
    "# submit_mean = pd.read_csv(\"../submissions/blending_mean.csv\")\n",
    "# public_1 = pd.read_csv(\"../references/public_1.csv\")\n",
    "# public_2 = pd.read_csv(\"../references/public_2.csv\")\n",
    "# public_3 = pd.read_csv(\"../references/public_3.csv\")\n",
    "# public_4 = pd.read_csv(\"../references/public_4.csv\")\n",
    "\n",
    "# submit_mean[\n",
    "#     \"hospital_death\"] = submit_mean.hospital_death * 0.8 + public_1.hospital_death * 0.05 + \\\n",
    "# public_2.hospital_death * 0.05 + public_3.hospital_death * 0.05 \\\n",
    "# + public_4.hospital_death * 0.05\n",
    "\n",
    "# submit_mean.head()\n",
    "# submit_mean.to_csv(\"../submissions/blending_mean_with_public.csv\", index=None)"
   ]
  },
  {
   "cell_type": "code",
   "execution_count": 12,
   "metadata": {
    "ExecuteTime": {
     "end_time": "2020-02-23T21:17:10.026661Z",
     "start_time": "2020-02-23T21:17:09.899048Z"
    }
   },
   "outputs": [],
   "source": [
    "# submit_rank_mean = pd.read_csv(\"../submissions/blending_rank_mean.csv\")\n",
    "# public_1 = pd.read_csv(\"../references/public_1.csv\")\n",
    "# public_2 = pd.read_csv(\"../references/public_2.csv\")\n",
    "# public_3 = pd.read_csv(\"../references/public_3.csv\")\n",
    "# public_4 = pd.read_csv(\"../references/public_4.csv\")\n",
    "\n",
    "# submit_rank_mean[\n",
    "#     \"hospital_death\"] = rankdata(submit_rank_mean.hospital_death) * 0.8 + rankdata(public_1.hospital_death) * 0.05 + \\\n",
    "# rankdata(public_2.hospital_death) * 0.05 + rankdata(public_3.hospital_death) * 0.05 \\\n",
    "# + rankdata(public_4.hospital_death) * 0.05\n",
    "# submit_rank_mean[\"hospital_death\"] /= np.max(submit_rank_mean[\"hospital_death\"])\n",
    "\n",
    "# submit_rank_mean.head()\n",
    "# submit_rank_mean.to_csv(\"../submissions/submit_rank_mean_with_public.csv\", index=None)"
   ]
  },
  {
   "cell_type": "code",
   "execution_count": 3,
   "metadata": {
    "ExecuteTime": {
     "end_time": "2020-02-23T21:09:26.022306Z",
     "start_time": "2020-02-23T21:09:25.915236Z"
    }
   },
   "outputs": [],
   "source": [
    "# submit_mean = pd.read_csv(\"../submissions/sub.csv\")\n",
    "# submit_mean.hospital_death = 0\n",
    "\n",
    "# # MEAN BLENDING\n",
    "# for idx in RANGE:\n",
    "#     submit_mean[\"hospital_death\"] += sub[idx].hospital_death / len(RANGE)\n",
    "    \n",
    "# submit_mean.to_csv(\"../submissions/blending_mean.csv\", index=None)"
   ]
  },
  {
   "cell_type": "code",
   "execution_count": 4,
   "metadata": {
    "ExecuteTime": {
     "end_time": "2020-02-23T21:09:26.024659Z",
     "start_time": "2020-02-23T21:09:26.023275Z"
    }
   },
   "outputs": [],
   "source": [
    "# submit_rank_mean = pd.read_csv(\"../submissions/sub.csv\")\n",
    "# submit_rank_mean.hospital_death = 0\n",
    "\n",
    "# # RANK MEAN BLENDING\n",
    "# for idx in RANGE:\n",
    "#     submit_rank_mean[\"hospital_death\"] += rankdata(sub[idx].hospital_death) / len(RANGE)\n",
    "# submit_rank_mean[\"hospital_death\"] /= np.max(submit_rank_mean[\"hospital_death\"])\n",
    "# submit_rank_mean.to_csv(\"../submissions/blending_rank_mean.csv\", index=None)"
   ]
  },
  {
   "cell_type": "code",
   "execution_count": null,
   "metadata": {},
   "outputs": [],
   "source": []
  },
  {
   "cell_type": "code",
   "execution_count": null,
   "metadata": {},
   "outputs": [],
   "source": []
  },
  {
   "cell_type": "code",
   "execution_count": null,
   "metadata": {},
   "outputs": [],
   "source": []
  },
  {
   "cell_type": "code",
   "execution_count": null,
   "metadata": {},
   "outputs": [],
   "source": []
  }
 ],
 "metadata": {
  "kernelspec": {
   "display_name": "Python 3",
   "language": "python",
   "name": "python3"
  },
  "language_info": {
   "codemirror_mode": {
    "name": "ipython",
    "version": 3
   },
   "file_extension": ".py",
   "mimetype": "text/x-python",
   "name": "python",
   "nbconvert_exporter": "python",
   "pygments_lexer": "ipython3",
   "version": "3.7.5"
  }
 },
 "nbformat": 4,
 "nbformat_minor": 2
}
